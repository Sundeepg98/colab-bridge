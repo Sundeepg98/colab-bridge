{
  "nbformat": 4,
  "nbformat_minor": 0,
  "metadata": {
    "colab": {
      "provenance": [],
      "name": "Secrets Only Automation.ipynb"
    }
  },
  "cells": [
    {
      "cell_type": "markdown",
      "metadata": {},
      "source": [
        "# \ud83d\udd10 Secrets-Only Automation (No Embedded Credentials)\n",
        "\n",
        "This notebook ONLY uses Colab secrets for maximum security."
      ]
    },
    {
      "cell_type": "code",
      "metadata": {},
      "source": [
        "# ONLY use secrets - no embedded credentials\n",
        "from google.colab import userdata\n",
        "import base64\n",
        "import json\n",
        "\n",
        "print(\"\ud83d\udd10 Loading service account from Colab secrets...\")\n",
        "\n",
        "try:\n",
        "    # Get the secret\n",
        "    secret_value = userdata.get('sun_colab')\n",
        "    print(f\"\u2705 Secret retrieved: {len(secret_value)} characters\")\n",
        "    \n",
        "    # Decode base64\n",
        "    sa_json = base64.b64decode(secret_value).decode('utf-8')\n",
        "    sa_info = json.loads(sa_json)\n",
        "    \n",
        "    print(f\"\u2705 Service account loaded: {sa_info['client_email']}\")\n",
        "    print(\"\ud83d\udd12 Using secrets-only mode for maximum security\")\n",
        "    \n",
        "except Exception as e:\n",
        "    print(f\"\u274c ERROR: Could not load secret: {e}\")\n",
        "    print(\"\\n\u26a0\ufe0f This notebook requires the 'sun_colab' secret to be configured\")\n",
        "    print(\"\\n\ud83d\udccb Instructions:\")\n",
        "    print(\"1. Click the \ud83d\udd11 (key) icon in the left sidebar\")\n",
        "    print(\"2. Add a secret named 'sun_colab'\")\n",
        "    print(\"3. Paste the base64-encoded service account JSON\")\n",
        "    print(\"4. Enable 'Notebook access'\")\n",
        "    print(\"5. Run this cell again\")\n",
        "    raise Exception(\"Secret not configured - cannot continue\")"
      ]
    },
    {
      "cell_type": "code",
      "metadata": {},
      "source": [
        "# Continue with automation using secrets\n",
        "from google.oauth2 import service_account\n",
        "from googleapiclient.discovery import build\n",
        "import time\n",
        "\n",
        "print(\"\\n\ud83d\ude80 Starting secure automation...\")\n",
        "\n",
        "# Create credentials from secret\n",
        "credentials = service_account.Credentials.from_service_account_info(\n",
        "    sa_info, scopes=['https://www.googleapis.com/auth/drive']\n",
        ")\n",
        "\n",
        "drive_service = build('drive', 'v3', credentials=credentials)\n",
        "folder_id = '1ruRdOXUJi16sHgDtpgxqtR7A7g7J8PpA'\n",
        "\n",
        "print(\"\u2705 Secure automation active!\")\n",
        "print(\"\ud83d\udd12 All credentials loaded from Colab secrets\")\n",
        "print(\"\u2705 No embedded credentials in notebook\")\n",
        "\n",
        "# Rest of automation code..."
      ]
    }
  ]
}