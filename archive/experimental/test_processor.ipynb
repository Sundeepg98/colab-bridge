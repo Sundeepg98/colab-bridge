{
  "cells": [
    {
      "cell_type": "markdown",
      "metadata": {},
      "source": [
        "# Colab-Bridge Processor\\n",
        "Auto-processing commands from colab-bridge"
      ]
    },
    {
      "cell_type": "code",
      "metadata": {},
      "source": [
        "import json\\n",
        "import time\\n",
        "from google.colab import drive\\n",
        "drive.mount('/content/drive')\\n",
        "print('\u2705 Drive mounted')"
      ]
    },
    {
      "cell_type": "code",
      "metadata": {},
      "source": [
        "# Processor loop\\n",
        "folder_path = f'/content/drive/MyDrive/{folder['name']}'\\n",
        "print(f'\ud83d\udcc1 Monitoring: {folder_path}')\\n",
        "\\n",
        "while True:\\n",
        "    # Check for command files\\n",
        "    import os\\n",
        "    if os.path.exists(folder_path):\\n",
        "        for file in os.listdir(folder_path):\\n",
        "            if file.startswith('command_') and file.endswith('.json'):\\n",
        "                # Process command\\n",
        "                cmd_path = os.path.join(folder_path, file)\\n",
        "                with open(cmd_path, 'r') as f:\\n",
        "                    command = json.load(f)\\n",
        "                \\n",
        "                print(f'\u26a1 Processing: {command[\"id\"]}')\\n",
        "                \\n",
        "                # Execute code\\n",
        "                result = {'id': command['id'], 'status': 'success'}\\n",
        "                try:\\n",
        "                    exec_globals = {}\\n",
        "                    exec(command['code'], exec_globals)\\n",
        "                    result['output'] = 'Code executed successfully'\\n",
        "                except Exception as e:\\n",
        "                    result['status'] = 'error'\\n",
        "                    result['error'] = str(e)\\n",
        "                \\n",
        "                # Write result\\n",
        "                result_path = cmd_path.replace('command_', 'result_')\\n",
        "                with open(result_path, 'w') as f:\\n",
        "                    json.dump(result, f)\\n",
        "                \\n",
        "                # Delete command file\\n",
        "                os.remove(cmd_path)\\n",
        "                print(f'\u2705 Completed: {command[\"id\"]}')\\n",
        "    \\n",
        "    time.sleep(2)  # Check every 2 seconds"
      ]
    }
  ],
  "metadata": {
    "kernelspec": {
      "display_name": "Python 3",
      "language": "python",
      "name": "python3"
    }
  },
  "nbformat": 4,
  "nbformat_minor": 0
}