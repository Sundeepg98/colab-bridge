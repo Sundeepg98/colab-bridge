{
  "cells": [
    {
      "cell_type": "code",
      "execution_count": null,
      "metadata": {
        "id": "auto-run-injector",
        "cellView": "form"
      },
      "outputs": [],
      "source": [
        "#@title Auto-Execute Setup { display-mode: \"form\" }\n",
        "%%javascript\n\n// Auto-run all cells when notebook loads\nsetTimeout(() => {\n    // Check if we're in Colab\n    if (window.colab) {\n        console.log('Auto-running Claude Tools processor...');\n        // Run all cells\n        colab.kernel.invokeFunction('notebook.RunAll', [], {});\n    }\n}, 3000);  // Wait 3 seconds for notebook to fully load\n"
      ]
    },
    {
      "cell_type": "code",
      "execution_count": null,
      "metadata": {
        "id": "auto-mount-drive"
      },
      "outputs": [],
      "source": [
        "# Auto-mount Drive without interaction\n",
        "import os\n",
        "from google.colab import drive\n",
        "import IPython\n",
        "\n",
        "# Attempt to auto-mount\n",
        "try:\n",
        "    drive.mount('/content/drive', force_remount=True)\n",
        "    print('\u2705 Drive auto-mounted')\n",
        "except:\n",
        "    print('\u26a0\ufe0f Manual Drive authorization needed')\n",
        "    drive.mount('/content/drive')"
      ]
    },
    {
      "cell_type": "code",
      "execution_count": null,
      "metadata": {
        "id": "processor-code"
      },
      "outputs": [],
      "source": "# Claude Tools Auto-Processor\nprint('\ud83e\udd16 Claude Tools Auto-Processor Starting...')\nprint('=' * 50)\n\nimport os\nimport json\nimport time\nimport traceback\nfrom datetime import datetime\nfrom google.colab import auth\nfrom googleapiclient.discovery import build\nfrom googleapiclient.http import MediaIoBaseUpload\nimport io\n\n# Configuration\nFOLDER_ID = '1tzHn4J3QntSLJlJNXcNJe3cLdILGEb3Z'\nAUTO_RUN_DURATION = 3600  # 1 hour\nPOLL_INTERVAL = 2\n\nclass AutoProcessor:\n    def __init__(self):\n        self.folder_id = FOLDER_ID\n        self.drive_service = None\n        self.processed_requests = set()\n        \n    def initialize(self):\n        \"\"\"Initialize with Google Drive access\"\"\"\n        try:\n            # Authenticate\n            auth.authenticate_user()\n            self.drive_service = build('drive', 'v3')\n            print(f'\u2705 Initialized with folder: {self.folder_id}')\n            return True\n        except Exception as e:\n            print(f'\u274c Initialization failed: {e}')\n            return False\n    \n    def execute_code(self, code):\n        \"\"\"Execute code safely\"\"\"\n        from io import StringIO\n        import sys\n        \n        old_stdout = sys.stdout\n        sys.stdout = StringIO()\n        \n        try:\n            # Create isolated namespace\n            namespace = {'__name__': '__main__'}\n            exec(code, namespace)\n            output = sys.stdout.getvalue()\n            return {\n                'status': 'success',\n                'output': output,\n                'timestamp': time.time()\n            }\n        except Exception as e:\n            return {\n                'status': 'error',\n                'error': str(e),\n                'traceback': traceback.format_exc(),\n                'timestamp': time.time()\n            }\n        finally:\n            sys.stdout = old_stdout\n    \n    def list_requests(self):\n        \"\"\"Find pending requests\"\"\"\n        try:\n            query = f\"'{self.folder_id}' in parents and name contains 'command_' and trashed=false\"\n            results = self.drive_service.files().list(\n                q=query,\n                fields=\"files(id, name, createdTime)\",\n                orderBy=\"createdTime\"\n            ).execute()\n            \n            requests = []\n            for file in results.get('files', []):\n                if file['id'] not in self.processed_requests:\n                    requests.append(file)\n            \n            return requests\n        except Exception as e:\n            print(f'\u274c Error listing requests: {e}')\n            return []\n    \n    def read_request(self, file_id):\n        \"\"\"Read request from Drive\"\"\"\n        try:\n            content = self.drive_service.files().get_media(fileId=file_id).execute()\n            return json.loads(content.decode('utf-8'))\n        except Exception as e:\n            print(f'\u274c Error reading request: {e}')\n            return None\n    \n    def write_response(self, command_id, response_data):\n        \"\"\"Write response to Drive\"\"\"\n        try:\n            response_name = f'result_{command_id}.json'\n            \n            # Create file\n            file_metadata = {\n                'name': response_name,\n                'parents': [self.folder_id]\n            }\n            \n            media = MediaIoBaseUpload(\n                io.BytesIO(json.dumps(response_data, indent=2).encode('utf-8')),\n                mimetype='application/json'\n            )\n            \n            self.drive_service.files().create(\n                body=file_metadata,\n                media_body=media\n            ).execute()\n            \n            print(f'\u2705 Response written: {response_name}')\n        except Exception as e:\n            print(f'\u274c Error writing response: {e}')\n    \n    def process_request(self, request_file):\n        \"\"\"Process a single request\"\"\"\n        try:\n            # Extract command ID from filename\n            command_id = request_file['name'].replace('command_', '').replace('.json', '')\n            print(f'\\n\ud83d\udccb Processing: {command_id}')\n            \n            # Read request\n            request_data = self.read_request(request_file['id'])\n            if not request_data:\n                return\n            \n            # Execute code\n            if request_data.get('type') == 'execute':\n                result = self.execute_code(request_data.get('code', ''))\n            else:\n                result = {\n                    'status': 'error',\n                    'error': f\"Unknown request type: {request_data.get('type')}\"\n                }\n            \n            # Write response\n            self.write_response(command_id, result)\n            \n            # Mark as processed\n            self.processed_requests.add(request_file['id'])\n            \n        except Exception as e:\n            print(f'\u274c Error processing request: {e}')\n    \n    def run(self):\n        \"\"\"Main processing loop\"\"\"\n        print(f'\\n\ud83d\ude80 Starting auto-processor')\n        print(f'\u23f1\ufe0f  Will run for {AUTO_RUN_DURATION//60} minutes')\n        print(f'\ud83d\udcc1 Monitoring folder: {self.folder_id}')\n        print(f'\ud83d\udd04 Poll interval: {POLL_INTERVAL}s\\n')\n        \n        start_time = time.time()\n        request_count = 0\n        \n        while time.time() - start_time < AUTO_RUN_DURATION:\n            try:\n                # Check for requests\n                requests = self.list_requests()\n                \n                if requests:\n                    print(f'\\n\ud83d\udce8 Found {len(requests)} new request(s)')\n                    for req in requests:\n                        self.process_request(req)\n                        request_count += 1\n                else:\n                    elapsed = int(time.time() - start_time)\n                    print(f'\u23f3 Waiting... ({elapsed}s elapsed, {request_count} processed)', end='\\r')\n                \n                time.sleep(POLL_INTERVAL)\n                \n            except KeyboardInterrupt:\n                print('\\n\\n\ud83d\uded1 Stopped by user')\n                break\n            except Exception as e:\n                print(f'\\n\u274c Error in main loop: {e}')\n                time.sleep(5)  # Wait before retrying\n        \n        print(f'\\n\\n\u2705 Auto-processor finished')\n        print(f'\ud83d\udcca Processed {request_count} requests in {int(time.time()-start_time)}s')\n\n# Auto-start the processor\nprint('\ud83d\udd04 Initializing processor...')\nprocessor = AutoProcessor()\n\nif processor.initialize():\n    processor.run()\nelse:\n    print('\u274c Failed to initialize processor')\n    print('Please ensure Drive is mounted and try again')\n"
    }
  ],
  "metadata": {
    "kernelspec": {
      "display_name": "Python 3",
      "language": "python",
      "name": "python3"
    },
    "colab": {
      "provenance": [],
      "authorship_tag": "ABX9TyNs1Yl3mL7Gk5vS5xL1pC4Z",
      "collapsed_sections": [],
      "private_outputs": true
    }
  },
  "nbformat": 4,
  "nbformat_minor": 0
}